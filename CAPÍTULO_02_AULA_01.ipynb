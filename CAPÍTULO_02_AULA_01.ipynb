{
  "nbformat": 4,
  "nbformat_minor": 0,
  "metadata": {
    "colab": {
      "provenance": [],
      "authorship_tag": "ABX9TyNY+4bXBcYCKlXoHrDowXeG",
      "include_colab_link": true
    },
    "kernelspec": {
      "name": "python3",
      "display_name": "Python 3"
    },
    "language_info": {
      "name": "python"
    }
  },
  "cells": [
    {
      "cell_type": "markdown",
      "metadata": {
        "id": "view-in-github",
        "colab_type": "text"
      },
      "source": [
        "<a href=\"https://colab.research.google.com/github/ronquesil/Python-XP/blob/main/CAP%C3%8DTULO_02_AULA_01.ipynb\" target=\"_parent\"><img src=\"https://colab.research.google.com/assets/colab-badge.svg\" alt=\"Open In Colab\"/></a>"
      ]
    },
    {
      "cell_type": "code",
      "execution_count": 2,
      "metadata": {
        "colab": {
          "base_uri": "https://localhost:8080/"
        },
        "id": "VHa8_NraeD_U",
        "outputId": "919d44f9-1c03-4666-d671-560a40dc3338"
      },
      "outputs": [
        {
          "output_type": "stream",
          "name": "stdout",
          "text": [
            "Resultado final\n",
            "menores: [0, 1, 2, 3, 4]\n",
            "maiores [6, 7, 8, 9]\n"
          ]
        }
      ],
      "source": [
        "# definir o valor do limiar\n",
        "# criar um novo comentário\n",
        "limiar = 5 # um novo comentário\n",
        "\n",
        "menores = [] # cria lista menores\n",
        "maiores = [] # cria lista maiores\n",
        "\n",
        "# divide os números de 1 a 10 em maiores e menores\n",
        "for i in range(10):\n",
        "  if (i < limiar):\n",
        "    menores.append(i)\n",
        "  elif (i > limiar):\n",
        "    maiores.append(i)\n",
        "  \n",
        "# imprime na tela os valores das listas.\n",
        "print('Resultado final')\n",
        "print('menores:', menores)\n",
        "print('maiores', maiores)\n"
      ]
    }
  ]
}