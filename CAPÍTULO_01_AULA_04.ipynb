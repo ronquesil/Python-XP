{
  "nbformat": 4,
  "nbformat_minor": 0,
  "metadata": {
    "colab": {
      "provenance": [],
      "authorship_tag": "ABX9TyPkaJj2ApOc/ySmd4bCJfeN",
      "include_colab_link": true
    },
    "kernelspec": {
      "name": "python3",
      "display_name": "Python 3"
    },
    "language_info": {
      "name": "python"
    }
  },
  "cells": [
    {
      "cell_type": "markdown",
      "metadata": {
        "id": "view-in-github",
        "colab_type": "text"
      },
      "source": [
        "<a href=\"https://colab.research.google.com/github/ronquesil/Python-XP/blob/main/CAP%C3%8DTULO_01_AULA_04.ipynb\" target=\"_parent\"><img src=\"https://colab.research.google.com/assets/colab-badge.svg\" alt=\"Open In Colab\"/></a>"
      ]
    },
    {
      "cell_type": "code",
      "execution_count": 1,
      "metadata": {
        "colab": {
          "base_uri": "https://localhost:8080/"
        },
        "id": "K4Tq4BVaYw2m",
        "outputId": "231751a7-c609-4073-9d1e-7ee2a52da7ef"
      },
      "outputs": [
        {
          "output_type": "stream",
          "name": "stdout",
          "text": [
            "Olá Ronaldo Queiroz seja bem-vindo\n"
          ]
        }
      ],
      "source": [
        "nome = 'Ronaldo Queiroz'\n",
        "print('Olá', nome, 'seja bem-vindo')"
      ]
    },
    {
      "cell_type": "code",
      "source": [
        "pessoa = 'Silva'\n",
        "print('Olá,', pessoa)"
      ],
      "metadata": {
        "colab": {
          "base_uri": "https://localhost:8080/"
        },
        "id": "CiMdGV__Z6Qb",
        "outputId": "b4a6a399-341d-4a1e-d163-2464d2cb3b3b"
      },
      "execution_count": 2,
      "outputs": [
        {
          "output_type": "stream",
          "name": "stdout",
          "text": [
            "Olá, Silva\n"
          ]
        }
      ]
    },
    {
      "cell_type": "code",
      "source": [
        "numero = 1\n",
        "numero + 2"
      ],
      "metadata": {
        "colab": {
          "base_uri": "https://localhost:8080/"
        },
        "id": "q53SqWOGahP6",
        "outputId": "f09ae4f4-be6c-49c9-f4fc-10d66e02f814"
      },
      "execution_count": 3,
      "outputs": [
        {
          "output_type": "execute_result",
          "data": {
            "text/plain": [
              "3"
            ]
          },
          "metadata": {},
          "execution_count": 3
        }
      ]
    }
  ]
}